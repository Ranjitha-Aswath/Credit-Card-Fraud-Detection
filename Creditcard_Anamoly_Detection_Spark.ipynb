{
  "nbformat": 4,
  "nbformat_minor": 0,
  "metadata": {
    "colab": {
      "provenance": []
    },
    "kernelspec": {
      "name": "python3",
      "display_name": "Python 3"
    },
    "language_info": {
      "name": "python"
    }
  },
  "cells": [
    {
      "cell_type": "code",
      "source": [
        "!pip install pyspark\n",
        "!apt-get update\n",
        "!apt-get install openjdk-8-jdk-headless -qq > /dev/null\n"
      ],
      "metadata": {
        "colab": {
          "base_uri": "https://localhost:8080/"
        },
        "id": "ePBaFnbO5hvi",
        "outputId": "45afc0f4-de6e-40cb-8cab-45d3175e9747"
      },
      "execution_count": 1,
      "outputs": [
        {
          "output_type": "stream",
          "name": "stdout",
          "text": [
            "Looking in indexes: https://pypi.org/simple, https://us-python.pkg.dev/colab-wheels/public/simple/\n",
            "Requirement already satisfied: pyspark in /usr/local/lib/python3.10/dist-packages (3.2.2)\n",
            "Requirement already satisfied: py4j==0.10.9.5 in /usr/local/lib/python3.10/dist-packages (from pyspark) (0.10.9.5)\n",
            "Hit:1 https://developer.download.nvidia.com/compute/cuda/repos/ubuntu2004/x86_64  InRelease\n",
            "Hit:2 https://cloud.r-project.org/bin/linux/ubuntu focal-cran40/ InRelease\n",
            "Hit:3 http://archive.ubuntu.com/ubuntu focal InRelease\n",
            "Hit:4 http://ppa.launchpad.net/c2d4u.team/c2d4u4.0+/ubuntu focal InRelease\n",
            "Hit:5 http://security.ubuntu.com/ubuntu focal-security InRelease\n",
            "Hit:6 http://archive.ubuntu.com/ubuntu focal-updates InRelease\n",
            "Hit:7 http://archive.ubuntu.com/ubuntu focal-backports InRelease\n",
            "Hit:8 http://ppa.launchpad.net/cran/libgit2/ubuntu focal InRelease\n",
            "Hit:9 http://ppa.launchpad.net/deadsnakes/ppa/ubuntu focal InRelease\n",
            "Hit:10 http://ppa.launchpad.net/graphics-drivers/ppa/ubuntu focal InRelease\n",
            "Hit:11 http://ppa.launchpad.net/ubuntugis/ppa/ubuntu focal InRelease\n",
            "Reading package lists... Done\n"
          ]
        }
      ]
    },
    {
      "cell_type": "code",
      "source": [
        "from pyspark.sql import SparkSession\n",
        "from pyspark.ml.feature import VectorAssembler, StandardScaler\n",
        "from pyspark.sql.functions import col\n",
        "from pyspark.ml import Pipeline\n",
        "from pyspark.ml.classification import LogisticRegression\n",
        "from pyspark.ml.evaluation import MulticlassClassificationEvaluator\n",
        "from pyspark.ml.classification import DecisionTreeClassifier\n",
        "from pyspark.ml.classification import RandomForestClassifier\n",
        "\n",
        "from sklearn.metrics import classification_report, confusion_matrix\n",
        "from sklearn.metrics import confusion_matrix\n",
        "import numpy as np\n",
        "import pandas as pd\n",
        "import seaborn as sns"
      ],
      "metadata": {
        "id": "4pujFwaAvR59"
      },
      "execution_count": 2,
      "outputs": []
    },
    {
      "cell_type": "code",
      "source": [
        "spark = SparkSession.builder.appName(\"CreditCardAnomalyDetection\").getOrCreate()\n",
        "df = spark.read.csv('/content/creditcard_data.csv', header='True', inferSchema='True')\n"
      ],
      "metadata": {
        "id": "XPAAsbhewE0j"
      },
      "execution_count": 3,
      "outputs": []
    },
    {
      "cell_type": "code",
      "execution_count": 4,
      "metadata": {
        "colab": {
          "base_uri": "https://localhost:8080/"
        },
        "id": "3NGhC67k38NY",
        "outputId": "437780f7-c02c-47b2-d673-19ed0284455b"
      },
      "outputs": [
        {
          "output_type": "stream",
          "name": "stdout",
          "text": [
            "+----------+-----+--------------------+\n",
            "|prediction|label|            features|\n",
            "+----------+-----+--------------------+\n",
            "|       0.0|  0.0|[-35.69834466,-33...|\n",
            "|       0.0|  0.0|[-31.74666256,17....|\n",
            "|       0.0|  0.0|[-31.32289536,-30...|\n",
            "|       0.0|  0.0|[-30.51545511,-32...|\n",
            "|       0.0|  1.0|[-29.20032859,16....|\n",
            "|       0.0|  0.0|[-28.22207649,-33...|\n",
            "|       0.0|  0.0|[-27.08329175,-21...|\n",
            "|       0.0|  0.0|[-26.25768917,-33...|\n",
            "|       0.0|  0.0|[-25.37438637,-4....|\n",
            "|       0.0|  0.0|[-24.71717867,-29...|\n",
            "|       0.0|  0.0|[-24.32175587,-20...|\n",
            "|       0.0|  0.0|[-23.91742439,-19...|\n",
            "|       0.0|  0.0|[-23.78218513,-34...|\n",
            "|       0.0|  0.0|[-23.57100292,-22...|\n",
            "|       0.0|  0.0|[-23.42035881,-6....|\n",
            "|       0.0|  0.0|[-22.62659209,-21...|\n",
            "|       0.0|  0.0|[-22.28496652,4.5...|\n",
            "|       0.0|  0.0|[-21.56741928,-20...|\n",
            "|       0.0|  0.0|[-21.54695869,4.3...|\n",
            "|       0.0|  0.0|[-21.35305622,-8....|\n",
            "+----------+-----+--------------------+\n",
            "only showing top 20 rows\n",
            "\n",
            "Accuracy of LogisticRegression is = 0.999035\n",
            "Test Error of LogisticRegression = 0.000965331 \n",
            "+----------+-----+--------------------+\n",
            "|prediction|label|            features|\n",
            "+----------+-----+--------------------+\n",
            "|       0.0|  0.0|[-35.69834466,-33...|\n",
            "|       1.0|  0.0|[-31.74666256,17....|\n",
            "|       0.0|  0.0|[-31.32289536,-30...|\n",
            "|       0.0|  0.0|[-30.51545511,-32...|\n",
            "|       1.0|  1.0|[-29.20032859,16....|\n",
            "|       0.0|  0.0|[-28.22207649,-33...|\n",
            "|       0.0|  0.0|[-27.08329175,-21...|\n",
            "|       0.0|  0.0|[-26.25768917,-33...|\n",
            "|       0.0|  0.0|[-25.37438637,-4....|\n",
            "|       0.0|  0.0|[-24.71717867,-29...|\n",
            "|       0.0|  0.0|[-24.32175587,-20...|\n",
            "|       0.0|  0.0|[-23.91742439,-19...|\n",
            "|       0.0|  0.0|[-23.78218513,-34...|\n",
            "|       0.0|  0.0|[-23.57100292,-22...|\n",
            "|       0.0|  0.0|[-23.42035881,-6....|\n",
            "|       0.0|  0.0|[-22.62659209,-21...|\n",
            "|       0.0|  0.0|[-22.28496652,4.5...|\n",
            "|       0.0|  0.0|[-21.56741928,-20...|\n",
            "|       0.0|  0.0|[-21.54695869,4.3...|\n",
            "|       0.0|  0.0|[-21.35305622,-8....|\n",
            "+----------+-----+--------------------+\n",
            "only showing top 20 rows\n",
            "\n",
            "Accuracy of DecisionTreeClassifier is = 0.999297\n",
            "Test Error of DecisionTreeClassifier = 0.000703071 \n",
            "+----------+-----+--------------------+\n",
            "|prediction|label|            features|\n",
            "+----------+-----+--------------------+\n",
            "|       0.0|  0.0|[-35.69834466,-33...|\n",
            "|       1.0|  0.0|[-31.74666256,17....|\n",
            "|       0.0|  0.0|[-31.32289536,-30...|\n",
            "|       0.0|  0.0|[-30.51545511,-32...|\n",
            "|       1.0|  1.0|[-29.20032859,16....|\n",
            "|       0.0|  0.0|[-28.22207649,-33...|\n",
            "|       0.0|  0.0|[-27.08329175,-21...|\n",
            "|       0.0|  0.0|[-26.25768917,-33...|\n",
            "|       0.0|  0.0|[-25.37438637,-4....|\n",
            "|       0.0|  0.0|[-24.71717867,-29...|\n",
            "|       0.0|  0.0|[-24.32175587,-20...|\n",
            "|       0.0|  0.0|[-23.91742439,-19...|\n",
            "|       0.0|  0.0|[-23.78218513,-34...|\n",
            "|       0.0|  0.0|[-23.57100292,-22...|\n",
            "|       0.0|  0.0|[-23.42035881,-6....|\n",
            "|       0.0|  0.0|[-22.62659209,-21...|\n",
            "|       0.0|  0.0|[-22.28496652,4.5...|\n",
            "|       0.0|  0.0|[-21.56741928,-20...|\n",
            "|       0.0|  0.0|[-21.54695869,4.3...|\n",
            "|       0.0|  0.0|[-21.35305622,-8....|\n",
            "+----------+-----+--------------------+\n",
            "only showing top 20 rows\n",
            "\n",
            "Accuracy of RandomForestClassifier is = 0.999414\n",
            "Test Error of RandomForestClassifier  = 0.000586367 \n"
          ]
        }
      ],
      "source": [
        "\n",
        "\n",
        "# Only cache the relevant DataFrames\n",
        "df = df.drop(\"Time\")\n",
        "df = df.withColumnRenamed(\"Class\", \"label\")\n",
        "df = df.select([col(c).cast(\"double\").alias(c) for c in df.columns])\n",
        "(trainingData, testData) = df.repartition(2).cache().randomSplit([0.7, 0.3], seed=100)\n",
        "\n",
        "\n",
        "# Specify the relevant column names for VectorAssembler\n",
        "assembler = VectorAssembler(inputCols=[\"V\" + str(i) for i in range(1, 29)], outputCol=\"features\")\n",
        "\n",
        "# Fit the scaler only on trainingData and transform both trainingData and testData\n",
        "scaler = StandardScaler(inputCol=\"features\", outputCol=\"scaledFeatures\")\n",
        "pipeline = Pipeline(stages=[assembler, scaler])\n",
        "trainingData = pipeline.fit(trainingData.repartition(2).cache()).transform(trainingData)\n",
        "testData = pipeline.fit(testData.repartition(2).cache()).transform(testData)\n",
        "\n",
        "\n",
        "# Use a simpler metric for the evaluator\n",
        "evaluator = MulticlassClassificationEvaluator(labelCol=\"label\", predictionCol=\"prediction\", metricName=\"weightedPrecision\")\n",
        "\n",
        "lr = LogisticRegression(labelCol=\"label\", featuresCol=\"features\")\n",
        "lrModel = lr.fit(trainingData)\n",
        "lr_prediction = lrModel.transform(testData)\n",
        "lr_prediction.select(\"prediction\", \"label\", \"features\").show()\n",
        "lr_accuracy = evaluator.evaluate(lr_prediction)\n",
        "print(\"Accuracy of LogisticRegression is = %g\"% (lr_accuracy))\n",
        "print(\"Test Error of LogisticRegression = %g \" % (1.0 - lr_accuracy))\n",
        "\n",
        "dt = DecisionTreeClassifier(labelCol=\"label\", featuresCol=\"features\")\n",
        "dt_model = dt.fit(trainingData)\n",
        "dt_prediction = dt_model.transform(testData)\n",
        "dt_prediction.select(\"prediction\", \"label\", \"features\").show()\n",
        "dt_accuracy = evaluator.evaluate(dt_prediction)\n",
        "print(\"Accuracy of DecisionTreeClassifier is = %g\"% (dt_accuracy))\n",
        "print(\"Test Error of DecisionTreeClassifier = %g \" % (1.0 - dt_accuracy))\n",
        "\n",
        "rf = RandomForestClassifier()\n",
        "rf_model = rf.fit(trainingData)\n",
        "rf_prediction = rf_model.transform(testData)\n",
        "rf_prediction.select(\"prediction\", \"label\", \"features\").show()\n",
        "rf_accuracy = evaluator.evaluate(rf_prediction)\n",
        "print(\"Accuracy of RandomForestClassifier is = %g\"% (rf_accuracy))\n",
        "print(\"Test Error of RandomForestClassifier  = %g \" % (1.0 - rf_accuracy))\n"
      ]
    },
    {
      "cell_type": "code",
      "source": [
        "ytest = testData.select(\"label\").toPandas()\n",
        "lr_pred_label = lr_prediction.select(\"label\").toPandas()\n",
        "rf_pred_label = rf_prediction.select(\"label\").toPandas()"
      ],
      "metadata": {
        "id": "h2NhFZvhZjN9"
      },
      "execution_count": 5,
      "outputs": []
    },
    {
      "cell_type": "code",
      "source": [
        "\n",
        "cm = np.array(confusion_matrix(ytest,lr_pred_label, labels=[1,0]))\n",
        "confusion_lr = pd.DataFrame(cm, index=['is Fraud', 'is Normal'],columns=['predicted fraud','predicted normal'])\n",
        "confusion_lr"
      ],
      "metadata": {
        "colab": {
          "base_uri": "https://localhost:8080/",
          "height": 112
        },
        "id": "KIO5VLJhXq-e",
        "outputId": "634fe36e-f530-4728-b0cf-b74a4e9d5e3a"
      },
      "execution_count": 6,
      "outputs": [
        {
          "output_type": "execute_result",
          "data": {
            "text/plain": [
              "           predicted fraud  predicted normal\n",
              "is Fraud               159                 0\n",
              "is Normal                0             85349"
            ],
            "text/html": [
              "\n",
              "  <div id=\"df-58d1c53b-f331-4b3f-a241-ba16e4755ec6\">\n",
              "    <div class=\"colab-df-container\">\n",
              "      <div>\n",
              "<style scoped>\n",
              "    .dataframe tbody tr th:only-of-type {\n",
              "        vertical-align: middle;\n",
              "    }\n",
              "\n",
              "    .dataframe tbody tr th {\n",
              "        vertical-align: top;\n",
              "    }\n",
              "\n",
              "    .dataframe thead th {\n",
              "        text-align: right;\n",
              "    }\n",
              "</style>\n",
              "<table border=\"1\" class=\"dataframe\">\n",
              "  <thead>\n",
              "    <tr style=\"text-align: right;\">\n",
              "      <th></th>\n",
              "      <th>predicted fraud</th>\n",
              "      <th>predicted normal</th>\n",
              "    </tr>\n",
              "  </thead>\n",
              "  <tbody>\n",
              "    <tr>\n",
              "      <th>is Fraud</th>\n",
              "      <td>159</td>\n",
              "      <td>0</td>\n",
              "    </tr>\n",
              "    <tr>\n",
              "      <th>is Normal</th>\n",
              "      <td>0</td>\n",
              "      <td>85349</td>\n",
              "    </tr>\n",
              "  </tbody>\n",
              "</table>\n",
              "</div>\n",
              "      <button class=\"colab-df-convert\" onclick=\"convertToInteractive('df-58d1c53b-f331-4b3f-a241-ba16e4755ec6')\"\n",
              "              title=\"Convert this dataframe to an interactive table.\"\n",
              "              style=\"display:none;\">\n",
              "        \n",
              "  <svg xmlns=\"http://www.w3.org/2000/svg\" height=\"24px\"viewBox=\"0 0 24 24\"\n",
              "       width=\"24px\">\n",
              "    <path d=\"M0 0h24v24H0V0z\" fill=\"none\"/>\n",
              "    <path d=\"M18.56 5.44l.94 2.06.94-2.06 2.06-.94-2.06-.94-.94-2.06-.94 2.06-2.06.94zm-11 1L8.5 8.5l.94-2.06 2.06-.94-2.06-.94L8.5 2.5l-.94 2.06-2.06.94zm10 10l.94 2.06.94-2.06 2.06-.94-2.06-.94-.94-2.06-.94 2.06-2.06.94z\"/><path d=\"M17.41 7.96l-1.37-1.37c-.4-.4-.92-.59-1.43-.59-.52 0-1.04.2-1.43.59L10.3 9.45l-7.72 7.72c-.78.78-.78 2.05 0 2.83L4 21.41c.39.39.9.59 1.41.59.51 0 1.02-.2 1.41-.59l7.78-7.78 2.81-2.81c.8-.78.8-2.07 0-2.86zM5.41 20L4 18.59l7.72-7.72 1.47 1.35L5.41 20z\"/>\n",
              "  </svg>\n",
              "      </button>\n",
              "      \n",
              "  <style>\n",
              "    .colab-df-container {\n",
              "      display:flex;\n",
              "      flex-wrap:wrap;\n",
              "      gap: 12px;\n",
              "    }\n",
              "\n",
              "    .colab-df-convert {\n",
              "      background-color: #E8F0FE;\n",
              "      border: none;\n",
              "      border-radius: 50%;\n",
              "      cursor: pointer;\n",
              "      display: none;\n",
              "      fill: #1967D2;\n",
              "      height: 32px;\n",
              "      padding: 0 0 0 0;\n",
              "      width: 32px;\n",
              "    }\n",
              "\n",
              "    .colab-df-convert:hover {\n",
              "      background-color: #E2EBFA;\n",
              "      box-shadow: 0px 1px 2px rgba(60, 64, 67, 0.3), 0px 1px 3px 1px rgba(60, 64, 67, 0.15);\n",
              "      fill: #174EA6;\n",
              "    }\n",
              "\n",
              "    [theme=dark] .colab-df-convert {\n",
              "      background-color: #3B4455;\n",
              "      fill: #D2E3FC;\n",
              "    }\n",
              "\n",
              "    [theme=dark] .colab-df-convert:hover {\n",
              "      background-color: #434B5C;\n",
              "      box-shadow: 0px 1px 3px 1px rgba(0, 0, 0, 0.15);\n",
              "      filter: drop-shadow(0px 1px 2px rgba(0, 0, 0, 0.3));\n",
              "      fill: #FFFFFF;\n",
              "    }\n",
              "  </style>\n",
              "\n",
              "      <script>\n",
              "        const buttonEl =\n",
              "          document.querySelector('#df-58d1c53b-f331-4b3f-a241-ba16e4755ec6 button.colab-df-convert');\n",
              "        buttonEl.style.display =\n",
              "          google.colab.kernel.accessAllowed ? 'block' : 'none';\n",
              "\n",
              "        async function convertToInteractive(key) {\n",
              "          const element = document.querySelector('#df-58d1c53b-f331-4b3f-a241-ba16e4755ec6');\n",
              "          const dataTable =\n",
              "            await google.colab.kernel.invokeFunction('convertToInteractive',\n",
              "                                                     [key], {});\n",
              "          if (!dataTable) return;\n",
              "\n",
              "          const docLinkHtml = 'Like what you see? Visit the ' +\n",
              "            '<a target=\"_blank\" href=https://colab.research.google.com/notebooks/data_table.ipynb>data table notebook</a>'\n",
              "            + ' to learn more about interactive tables.';\n",
              "          element.innerHTML = '';\n",
              "          dataTable['output_type'] = 'display_data';\n",
              "          await google.colab.output.renderOutput(dataTable, element);\n",
              "          const docLink = document.createElement('div');\n",
              "          docLink.innerHTML = docLinkHtml;\n",
              "          element.appendChild(docLink);\n",
              "        }\n",
              "      </script>\n",
              "    </div>\n",
              "  </div>\n",
              "  "
            ]
          },
          "metadata": {},
          "execution_count": 6
        }
      ]
    },
    {
      "cell_type": "code",
      "source": [
        "sns.heatmap(confusion_lr, annot=True)"
      ],
      "metadata": {
        "colab": {
          "base_uri": "https://localhost:8080/",
          "height": 448
        },
        "id": "HzAmSZOcaVON",
        "outputId": "0c535ab3-50d8-48fd-ef88-385413fa3c38"
      },
      "execution_count": 7,
      "outputs": [
        {
          "output_type": "execute_result",
          "data": {
            "text/plain": [
              "<Axes: >"
            ]
          },
          "metadata": {},
          "execution_count": 7
        },
        {
          "output_type": "display_data",
          "data": {
            "text/plain": [
              "<Figure size 640x480 with 2 Axes>"
            ],
            "image/png": "[encoded data removed]"
          },
          "metadata": {}
        }
      ]
    },
    {
      "cell_type": "code",
      "source": [
        "cm = np.array(confusion_matrix(ytest,rf_pred_label, labels=[1,0]))\n",
        "confusion_rf = pd.DataFrame(cm, index=['is Fraud', 'is Normal'],columns=['predicted fraud','predicted normal'])\n",
        "confusion_rf"
      ],
      "metadata": {
        "colab": {
          "base_uri": "https://localhost:8080/",
          "height": 112
        },
        "id": "a46pn1t3aibW",
        "outputId": "c5e1950e-70dd-439f-fec2-0290e1120dfb"
      },
      "execution_count": 8,
      "outputs": [
        {
          "output_type": "execute_result",
          "data": {
            "text/plain": [
              "           predicted fraud  predicted normal\n",
              "is Fraud               159                 0\n",
              "is Normal                0             85349"
            ],
            "text/html": [
              "\n",
              "  <div id=\"df-8ef9b275-dd66-44b0-b01e-ffc0de033ab5\">\n",
              "    <div class=\"colab-df-container\">\n",
              "      <div>\n",
              "<style scoped>\n",
              "    .dataframe tbody tr th:only-of-type {\n",
              "        vertical-align: middle;\n",
              "    }\n",
              "\n",
              "    .dataframe tbody tr th {\n",
              "        vertical-align: top;\n",
              "    }\n",
              "\n",
              "    .dataframe thead th {\n",
              "        text-align: right;\n",
              "    }\n",
              "</style>\n",
              "<table border=\"1\" class=\"dataframe\">\n",
              "  <thead>\n",
              "    <tr style=\"text-align: right;\">\n",
              "      <th></th>\n",
              "      <th>predicted fraud</th>\n",
              "      <th>predicted normal</th>\n",
              "    </tr>\n",
              "  </thead>\n",
              "  <tbody>\n",
              "    <tr>\n",
              "      <th>is Fraud</th>\n",
              "      <td>159</td>\n",
              "      <td>0</td>\n",
              "    </tr>\n",
              "    <tr>\n",
              "      <th>is Normal</th>\n",
              "      <td>0</td>\n",
              "      <td>85349</td>\n",
              "    </tr>\n",
              "  </tbody>\n",
              "</table>\n",
              "</div>\n",
              "      <button class=\"colab-df-convert\" onclick=\"convertToInteractive('df-8ef9b275-dd66-44b0-b01e-ffc0de033ab5')\"\n",
              "              title=\"Convert this dataframe to an interactive table.\"\n",
              "              style=\"display:none;\">\n",
              "        \n",
              "  <svg xmlns=\"http://www.w3.org/2000/svg\" height=\"24px\"viewBox=\"0 0 24 24\"\n",
              "       width=\"24px\">\n",
              "    <path d=\"M0 0h24v24H0V0z\" fill=\"none\"/>\n",
              "    <path d=\"M18.56 5.44l.94 2.06.94-2.06 2.06-.94-2.06-.94-.94-2.06-.94 2.06-2.06.94zm-11 1L8.5 8.5l.94-2.06 2.06-.94-2.06-.94L8.5 2.5l-.94 2.06-2.06.94zm10 10l.94 2.06.94-2.06 2.06-.94-2.06-.94-.94-2.06-.94 2.06-2.06.94z\"/><path d=\"M17.41 7.96l-1.37-1.37c-.4-.4-.92-.59-1.43-.59-.52 0-1.04.2-1.43.59L10.3 9.45l-7.72 7.72c-.78.78-.78 2.05 0 2.83L4 21.41c.39.39.9.59 1.41.59.51 0 1.02-.2 1.41-.59l7.78-7.78 2.81-2.81c.8-.78.8-2.07 0-2.86zM5.41 20L4 18.59l7.72-7.72 1.47 1.35L5.41 20z\"/>\n",
              "  </svg>\n",
              "      </button>\n",
              "      \n",
              "  <style>\n",
              "    .colab-df-container {\n",
              "      display:flex;\n",
              "      flex-wrap:wrap;\n",
              "      gap: 12px;\n",
              "    }\n",
              "\n",
              "    .colab-df-convert {\n",
              "      background-color: #E8F0FE;\n",
              "      border: none;\n",
              "      border-radius: 50%;\n",
              "      cursor: pointer;\n",
              "      display: none;\n",
              "      fill: #1967D2;\n",
              "      height: 32px;\n",
              "      padding: 0 0 0 0;\n",
              "      width: 32px;\n",
              "    }\n",
              "\n",
              "    .colab-df-convert:hover {\n",
              "      background-color: #E2EBFA;\n",
              "      box-shadow: 0px 1px 2px rgba(60, 64, 67, 0.3), 0px 1px 3px 1px rgba(60, 64, 67, 0.15);\n",
              "      fill: #174EA6;\n",
              "    }\n",
              "\n",
              "    [theme=dark] .colab-df-convert {\n",
              "      background-color: #3B4455;\n",
              "      fill: #D2E3FC;\n",
              "    }\n",
              "\n",
              "    [theme=dark] .colab-df-convert:hover {\n",
              "      background-color: #434B5C;\n",
              "      box-shadow: 0px 1px 3px 1px rgba(0, 0, 0, 0.15);\n",
              "      filter: drop-shadow(0px 1px 2px rgba(0, 0, 0, 0.3));\n",
              "      fill: #FFFFFF;\n",
              "    }\n",
              "  </style>\n",
              "\n",
              "      <script>\n",
              "        const buttonEl =\n",
              "          document.querySelector('#df-8ef9b275-dd66-44b0-b01e-ffc0de033ab5 button.colab-df-convert');\n",
              "        buttonEl.style.display =\n",
              "          google.colab.kernel.accessAllowed ? 'block' : 'none';\n",
              "\n",
              "        async function convertToInteractive(key) {\n",
              "          const element = document.querySelector('#df-8ef9b275-dd66-44b0-b01e-ffc0de033ab5');\n",
              "          const dataTable =\n",
              "            await google.colab.kernel.invokeFunction('convertToInteractive',\n",
              "                                                     [key], {});\n",
              "          if (!dataTable) return;\n",
              "\n",
              "          const docLinkHtml = 'Like what you see? Visit the ' +\n",
              "            '<a target=\"_blank\" href=https://colab.research.google.com/notebooks/data_table.ipynb>data table notebook</a>'\n",
              "            + ' to learn more about interactive tables.';\n",
              "          element.innerHTML = '';\n",
              "          dataTable['output_type'] = 'display_data';\n",
              "          await google.colab.output.renderOutput(dataTable, element);\n",
              "          const docLink = document.createElement('div');\n",
              "          docLink.innerHTML = docLinkHtml;\n",
              "          element.appendChild(docLink);\n",
              "        }\n",
              "      </script>\n",
              "    </div>\n",
              "  </div>\n",
              "  "
            ]
          },
          "metadata": {},
          "execution_count": 8
        }
      ]
    },
    {
      "cell_type": "code",
      "source": [
        "sns.heatmap(confusion_rf, annot=True)"
      ],
      "metadata": {
        "colab": {
          "base_uri": "https://localhost:8080/",
          "height": 448
        },
        "id": "DYPxvqvzannS",
        "outputId": "a0fd013d-745e-4c7f-c7e9-55ad5d5deff5"
      },
      "execution_count": 9,
      "outputs": [
        {
          "output_type": "execute_result",
          "data": {
            "text/plain": [
              "<Axes: >"
            ]
          },
          "metadata": {},
          "execution_count": 9
        },
        {
          "output_type": "display_data",
          "data": {
            "text/plain": [
              "<Figure size 640x480 with 2 Axes>"
            ],
            "image/png": "[encoded data removed]"
          },
          "metadata": {}
        }
      ]
    },
    {
      "cell_type": "code",
      "source": [
        "print(classification_report(ytest, lr_pred_label))"
      ],
      "metadata": {
        "colab": {
          "base_uri": "https://localhost:8080/"
        },
        "id": "xr9gfIPlauBY",
        "outputId": "7080d38f-8c69-4025-fe3e-97365cfaa8a9"
      },
      "execution_count": 10,
      "outputs": [
        {
          "output_type": "stream",
          "name": "stdout",
          "text": [
            "              precision    recall  f1-score   support\n",
            "\n",
            "         0.0       1.00      1.00      1.00     85349\n",
            "         1.0       1.00      1.00      1.00       159\n",
            "\n",
            "    accuracy                           1.00     85508\n",
            "   macro avg       1.00      1.00      1.00     85508\n",
            "weighted avg       1.00      1.00      1.00     85508\n",
            "\n"
          ]
        }
      ]
    },
    {
      "cell_type": "code",
      "source": [
        "print(classification_report(ytest, rf_pred_label))"
      ],
      "metadata": {
        "colab": {
          "base_uri": "https://localhost:8080/"
        },
        "id": "rXdmCOwCayvN",
        "outputId": "ba20ec5e-6c05-4e74-e555-c20772fcae84"
      },
      "execution_count": 11,
      "outputs": [
        {
          "output_type": "stream",
          "name": "stdout",
          "text": [
            "              precision    recall  f1-score   support\n",
            "\n",
            "         0.0       1.00      1.00      1.00     85349\n",
            "         1.0       1.00      1.00      1.00       159\n",
            "\n",
            "    accuracy                           1.00     85508\n",
            "   macro avg       1.00      1.00      1.00     85508\n",
            "weighted avg       1.00      1.00      1.00     85508\n",
            "\n"
          ]
        }
      ]
    }
  ]
}